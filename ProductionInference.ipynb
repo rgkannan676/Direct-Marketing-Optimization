{
 "cells": [
  {
   "cell_type": "markdown",
   "id": "37b4a12c-7e00-4711-b764-3b6d003cefe9",
   "metadata": {},
   "source": [
    "## Production Inference\n",
    "- In this notebook the trained model will be used to do inference and find the target clients."
   ]
  },
  {
   "cell_type": "markdown",
   "id": "50d4d593-63a1-4243-a843-52a97385a655",
   "metadata": {},
   "source": [
    "### Import Libraries\n",
    "- Import all essential libraries"
   ]
  },
  {
   "cell_type": "code",
   "execution_count": 1,
   "id": "b0757041-1b31-4318-97d3-dc8185d9b037",
   "metadata": {},
   "outputs": [],
   "source": [
    "import xgboost as xgb\n",
    "import pandas as pd\n",
    "import numpy as np\n",
    "import matplotlib.pyplot as plt\n",
    "import pickle\n",
    "from sklearn.preprocessing import StandardScaler\n",
    "from sklearn.decomposition import PCA\n",
    "import warnings\n",
    "warnings.filterwarnings('ignore')"
   ]
  },
  {
   "cell_type": "markdown",
   "id": "2e653c84-8311-47d9-8ee8-dd1a0fce6ee4",
   "metadata": {},
   "source": [
    "### Load Data\n",
    "- Load the complete data for inference"
   ]
  },
  {
   "cell_type": "code",
   "execution_count": 2,
   "id": "cc9f37be-090f-4ae5-9daf-894008cea8a9",
   "metadata": {},
   "outputs": [
    {
     "name": "stdout",
     "output_type": "stream",
     "text": [
      "   Client Sex  Age  Tenure  Count_CA  Count_SA  Count_MF  Count_OVD  Count_CC  \\\n",
      "0     909   M   21      27         1       0.0       0.0        1.0       0.0   \n",
      "1    1217   M   38     165         1       0.0       0.0        0.0       0.0   \n",
      "\n",
      "   Count_CL  ...   VolumeDeb  VolumeDeb_CA  VolumeDebCash_Card  \\\n",
      "0       1.0  ...  450.678571    448.892857          178.571429   \n",
      "1       0.0  ...  714.285714    714.285714            0.000000   \n",
      "\n",
      "   VolumeDebCashless_Card  VolumeDeb_PaymentOrder  TransactionsDeb  \\\n",
      "0                     0.0              166.571429              8.0   \n",
      "1                     0.0              714.285714              1.0   \n",
      "\n",
      "   TransactionsDeb_CA  TransactionsDebCash_Card  TransactionsDebCashless_Card  \\\n",
      "0                 7.0                       1.0                           0.0   \n",
      "1                 1.0                       0.0                           0.0   \n",
      "\n",
      "   TransactionsDeb_PaymentOrder  \n",
      "0                           4.0  \n",
      "1                           1.0  \n",
      "\n",
      "[2 rows x 30 columns]\n",
      "Combined Shape :  (1587, 30)\n"
     ]
    }
   ],
   "source": [
    "soc_dem_data = pd.read_excel('data/DataScientist_CaseStudy_Dataset.xlsx', sheet_name='Soc_Dem')\n",
    "products_actBalance_data = pd.read_excel('data/DataScientist_CaseStudy_Dataset.xlsx', sheet_name='Products_ActBalance')\n",
    "inflow_outflow_data = pd.read_excel('data/DataScientist_CaseStudy_Dataset.xlsx', sheet_name='Inflow_Outflow')\n",
    "sales_revenues_data = pd.read_excel('data/DataScientist_CaseStudy_Dataset.xlsx', sheet_name='Sales_Revenues')\n",
    "combined_data= pd.concat([soc_dem_data.set_index('Client',inplace=False),products_actBalance_data.set_index('Client',inplace=False),inflow_outflow_data.set_index('Client',inplace=False)],axis=1,sort=False).reset_index()\n",
    "combined_data.rename(columns = {'index':'Client'})\n",
    "\n",
    "#Fill the Nan values.\n",
    "sex_mod = combined_data.Sex.mode()[0]\n",
    "combined_data['Sex'] = combined_data['Sex'].fillna(sex_mod)\n",
    "process_col_list = [\"Count_SA\",\"Count_MF\",\"Count_OVD\",\"Count_CC\",\"Count_CL\",\"ActBal_SA\",\"ActBal_MF\",\"ActBal_OVD\",\"ActBal_CC\",\"ActBal_CL\"]\n",
    "combined_data[process_col_list]=combined_data[process_col_list].fillna(0) \n",
    "combined_data.dropna(inplace=True)\n",
    "\n",
    "print(combined_data.head(2))\n",
    "print(\"Combined Shape : \", combined_data.shape)"
   ]
  },
  {
   "cell_type": "markdown",
   "id": "034a71df-1ade-427b-acbd-100a0c02168b",
   "metadata": {},
   "source": [
    "### Load Model and Metadata from data processing and training for Inferece\n",
    "- Load the model and metadata for inferece."
   ]
  },
  {
   "cell_type": "code",
   "execution_count": 3,
   "id": "fef73540-7d34-4fa2-a699-c65f27bdeb26",
   "metadata": {},
   "outputs": [],
   "source": [
    "#Load StandardScaler metadata.\n",
    "consumer_loan_scaler = StandardScaler()\n",
    "with open('inference_metadata/consumer_loan_scaler.pkl','rb') as f:\n",
    "    consumer_loan_scaler = pickle.load(f)\n",
    "\n",
    "credit_card_scaler = StandardScaler()\n",
    "with open('inference_metadata/credit_card_scaler.pkl','rb') as f:\n",
    "    credit_card_scaler = pickle.load(f)\n",
    "\n",
    "mutual_fund_scaler = StandardScaler()\n",
    "with open('inference_metadata/mutual_fund_scaler.pkl','rb') as f:\n",
    "    mutual_fund_scaler = pickle.load(f)"
   ]
  },
  {
   "cell_type": "code",
   "execution_count": 4,
   "id": "78de61fa-242a-4386-ab9d-4b27b9cff4cc",
   "metadata": {},
   "outputs": [],
   "source": [
    "#Load PCA metadata\n",
    "consumer_loan_pca = PCA()\n",
    "with open('inference_metadata/consumer_loan_pca.pkl','rb') as f:\n",
    "    consumer_loan_pca = pickle.load(f)\n",
    "\n",
    "credit_card_pca = PCA()\n",
    "with open('inference_metadata/credit_card_pca.pkl','rb') as f:\n",
    "    credit_card_pca = pickle.load(f)\n",
    "\n",
    "mutual_fund_pca = PCA()\n",
    "with open('inference_metadata/mutual_fund_pca.pkl','rb') as f:\n",
    "    mutual_fund_pca = pickle.load(f)\n"
   ]
  },
  {
   "cell_type": "code",
   "execution_count": 5,
   "id": "693e1479-6433-4b9c-acdd-ce6f272376d7",
   "metadata": {},
   "outputs": [],
   "source": [
    "#Selected columns for each models metadata\n",
    "CL_Selected_Cols=[]\n",
    "CC_Selected_Cols=[]\n",
    "MF_Selected_Cols=[]\n",
    "\n",
    "with open('inference_metadata/CL_Selected_Cols.pkl','rb') as f:\n",
    "    CL_Selected_Cols = pickle.load(f)\n",
    "\n",
    "with open('inference_metadata/CC_Selected_Cols.pkl','rb') as f:\n",
    "    CC_Selected_Cols = pickle.load(f)\n",
    "\n",
    "with open('inference_metadata/MF_Selected_Cols.pkl','rb') as f:\n",
    "    MF_Selected_Cols = pickle.load(f)"
   ]
  },
  {
   "cell_type": "code",
   "execution_count": 6,
   "id": "2a71b956-21d3-48b6-9bfd-2623d9b32526",
   "metadata": {},
   "outputs": [
    {
     "name": "stdout",
     "output_type": "stream",
     "text": [
      "Completed model load\n"
     ]
    }
   ],
   "source": [
    "#Load XGB Models for inferece.\n",
    "\n",
    "#Consumer Load Model\n",
    "xgb_classifier_CL=xgb.XGBClassifier()\n",
    "with open('model/xgb_classifier_CL.pkl','rb') as f:\n",
    "    xgb_classifier_CL = pickle.load(f)\n",
    "\n",
    "xgb_regressor_CL = xgb.XGBRegressor()\n",
    "with open('model/xgb_regressor_CL.pkl','rb') as f:\n",
    "    xgb_regressor_CL = pickle.load(f)\n",
    "\n",
    "#Credit Card Model\n",
    "xgb_classifier_CC = xgb.XGBClassifier()\n",
    "with open('model/xgb_classifier_CC.pkl','rb') as f:\n",
    "    xgb_classifier_CC = pickle.load(f)\n",
    "\n",
    "xgb_regressor_CC = xgb.XGBRegressor()\n",
    "with open('model/xgb_regressor_CC.pkl','rb') as f:\n",
    "    xgb_regressor_CC = pickle.load(f)\n",
    "\n",
    "#Mutual Fund Model\n",
    "xgb_classifier_MF = xgb.XGBClassifier()\n",
    "with open('model/xgb_classifier_MF.pkl','rb') as f:\n",
    "    xgb_classifier_MF = pickle.load(f)\n",
    "\n",
    "xgb_regressor_MF = xgb.XGBRegressor()\n",
    "with open('model/xgb_regressor_MF.pkl','rb') as f:\n",
    "    xgb_regressor_MF = pickle.load(f)\n",
    "\n",
    "print(\"Completed model load\")"
   ]
  },
  {
   "cell_type": "markdown",
   "id": "ee0243f8-0dff-4ea2-9159-dff69d6dc205",
   "metadata": {},
   "source": [
    "#### Data Preprocessing Pipeline\n",
    "- In this section the data preprocessing will be done before the model inference "
   ]
  },
  {
   "cell_type": "code",
   "execution_count": 7,
   "id": "ea48b2b9-2d57-4f83-b386-003cf90c8548",
   "metadata": {},
   "outputs": [],
   "source": [
    "def data_preprocessing_pipeline(data,standard_scalar,pca,selected_cols):\n",
    "    # Convert Sex from string to numerical value.\n",
    "    data['Sex']= data['Sex'].replace(['M', 'F'],[0, 1])\n",
    "\n",
    "    #Remove correlated columns and Client column\n",
    "    data = data.drop(columns=['Client','VolumeCred_CA','TransactionsCred_CA','VolumeDeb_CA','TransactionsDeb_CA'])\n",
    "\n",
    "    columns_to_standerdize =['Sex', 'Age', 'Tenure', 'Count_CA', 'Count_SA', 'Count_MF',\n",
    "       'Count_OVD', 'Count_CC', 'Count_CL', 'ActBal_CA', 'ActBal_SA',\n",
    "       'ActBal_MF', 'ActBal_OVD', 'ActBal_CC', 'ActBal_CL', 'VolumeCred',\n",
    "       'TransactionsCred', 'VolumeDeb', 'VolumeDebCash_Card',\n",
    "       'VolumeDebCashless_Card', 'VolumeDeb_PaymentOrder', 'TransactionsDeb',\n",
    "       'TransactionsDebCash_Card', 'TransactionsDebCashless_Card',\n",
    "       'TransactionsDeb_PaymentOrder']\n",
    "\n",
    "    \n",
    "    #Standerdize the columns data\n",
    "    data[columns_to_standerdize] = standard_scalar.transform(data[columns_to_standerdize])\n",
    "\n",
    "    #Keep the selected columns \n",
    "    data = data[selected_cols]\n",
    "\n",
    "    data = pca.transform(data)\n",
    "\n",
    "    return data"
   ]
  },
  {
   "cell_type": "code",
   "execution_count": 8,
   "id": "d7f37ebd-d0ea-40e0-9e7b-854c9b17d806",
   "metadata": {},
   "outputs": [],
   "source": [
    "#Test the data processing pipeline\n",
    "#data_preprocessing_pipeline(combined_data,consumer_loan_scaler,consumer_loan_pca,CL_Selected_Cols)\n",
    "#data_preprocessing_pipeline(combined_data,credit_card_scaler,credit_card_pca,CC_Selected_Cols)\n",
    "#data_preprocessing_pipeline(combined_data,mutual_fund_scaler,mutual_fund_pca,MF_Selected_Cols)"
   ]
  },
  {
   "cell_type": "markdown",
   "id": "376e798f-573c-48b8-88d4-da4254a117d6",
   "metadata": {},
   "source": [
    "#### Model Prediction Pipeline\n",
    "- In this section the classification and regression pipeline will be coded"
   ]
  },
  {
   "cell_type": "code",
   "execution_count": 9,
   "id": "0da6e3ee-a9ec-44fc-9806-0bf9650494b7",
   "metadata": {},
   "outputs": [],
   "source": [
    "def classification_model_prediction(model,data):\n",
    "    predictions = model.predict(data)\n",
    "    #predictions_probability = model.predict_proba(data)[:, 1]\n",
    "    return predictions"
   ]
  },
  {
   "cell_type": "code",
   "execution_count": 10,
   "id": "301d6422-8848-4bd7-8ac6-50f7ccdc469d",
   "metadata": {},
   "outputs": [],
   "source": [
    "#Test Classification\n",
    "#predict= classification_model_prediction(xgb_classifier_CL,data_preprocessing_pipeline(combined_data,consumer_loan_scaler,consumer_loan_pca,CL_Selected_Cols))\n",
    "#predict = classification_model_prediction(xgb_classifier_CC,data_preprocessing_pipeline(combined_data,credit_card_scaler,credit_card_pca,CC_Selected_Cols))\n",
    "#predict= classification_model_prediction(xgb_classifier_MF,data_preprocessing_pipeline(combined_data,mutual_fund_scaler,mutual_fund_pca,MF_Selected_Cols))"
   ]
  },
  {
   "cell_type": "code",
   "execution_count": 11,
   "id": "a4530a2f-c761-407c-aaf2-9a4070f9b6fb",
   "metadata": {},
   "outputs": [],
   "source": [
    "def regression_model_prediction(model,data):\n",
    "    predictions = model.predict(data)\n",
    "    return predictions"
   ]
  },
  {
   "cell_type": "code",
   "execution_count": 12,
   "id": "1d09af64-be68-465c-b27b-41250ea82e3e",
   "metadata": {},
   "outputs": [],
   "source": [
    "#Test Regression\n",
    "#predict = regression_model_prediction(xgb_regressor_CL,data_preprocessing_pipeline(combined_data,consumer_loan_scaler,consumer_loan_pca,CL_Selected_Cols))\n",
    "#predict = regression_model_prediction(xgb_regressor_CC,data_preprocessing_pipeline(combined_data,credit_card_scaler,credit_card_pca,CC_Selected_Cols))\n",
    "#predict = regression_model_prediction(xgb_regressor_MF,data_preprocessing_pipeline(combined_data,mutual_fund_scaler,mutual_fund_pca,MF_Selected_Cols))\n",
    "#predict"
   ]
  },
  {
   "cell_type": "markdown",
   "id": "761689b5-6622-4208-bc97-90ca4ef1e42d",
   "metadata": {},
   "source": [
    "#### Preprocessing Pipeline\n",
    "- This section handles the preprocessing part of the classification and refression models."
   ]
  },
  {
   "cell_type": "code",
   "execution_count": 13,
   "id": "22b4707e-9210-4c40-be47-a3ea5177ef2b",
   "metadata": {},
   "outputs": [],
   "source": [
    "#Get possible candidates by checking classification model.\n",
    "def get_possible_client_candidates(clientID,classification_prediction,revenue_prediction,product_key):\n",
    "    df=pd.DataFrame(classification_prediction, columns=['classification_prediction'])\n",
    "    df['revenue_prediction'] = pd.DataFrame(revenue_prediction)\n",
    "    df['Client'] = clientID\n",
    "    df = df[df['classification_prediction']!=0]\n",
    "    df['product_key']=product_key\n",
    "    df = df.sort_values(by=['revenue_prediction'],ascending=False)\n",
    "    df = df.drop(columns=['classification_prediction'])\n",
    "    return df"
   ]
  },
  {
   "cell_type": "code",
   "execution_count": 14,
   "id": "7776e05e-32a3-4e5e-8dd2-241e440cbeab",
   "metadata": {},
   "outputs": [],
   "source": [
    "#test client candidates\n",
    "#classification_prediction = classification_model_prediction(xgb_classifier_CL,data_preprocessing_pipeline(combined_data,consumer_loan_scaler,consumer_loan_pca,CL_Selected_Cols))\n",
    "#revenue_predict = regression_model_prediction(xgb_regressor_CL,data_preprocessing_pipeline(combined_data,consumer_loan_scaler,consumer_loan_pca,CL_Selected_Cols))\n",
    "#get_possible_client_candidates(combined_data['Client'],classification_prediction,revenue_predict,'CL')"
   ]
  },
  {
   "cell_type": "code",
   "execution_count": 15,
   "id": "d5c2474c-0fd0-4d78-b2e4-52d5ba945099",
   "metadata": {},
   "outputs": [],
   "source": [
    "def combine_and_select_highest_revenue(df_list):\n",
    "    df = pd.concat(df_list)\n",
    "    df = df.sort_values(by=['revenue_prediction'],ascending=False)\n",
    "    df = df.drop_duplicates(subset='Client', keep=\"first\")\n",
    "    return df"
   ]
  },
  {
   "cell_type": "code",
   "execution_count": 16,
   "id": "22483a85-9f7e-43e7-9fad-bb39eb3c3f90",
   "metadata": {},
   "outputs": [],
   "source": [
    "def get_top_n_rows_product(df,product_key,top):\n",
    "    df = df[df['product_key']==product_key].head(top)\n",
    "    return df"
   ]
  },
  {
   "cell_type": "markdown",
   "id": "f45e47f2-51d5-4aed-ae9f-18d012569f1c",
   "metadata": {},
   "source": [
    "#### Run the Full Inference Pipeline\n",
    "- Run the full pipline to generate the results."
   ]
  },
  {
   "cell_type": "code",
   "execution_count": 17,
   "id": "bde3d307-6bbd-4355-8bc0-e603797d2ddf",
   "metadata": {},
   "outputs": [],
   "source": [
    "#Consumer Loan\n",
    "cl_processed_data = data_preprocessing_pipeline(combined_data,consumer_loan_scaler,consumer_loan_pca,CL_Selected_Cols)\n",
    "cl_client_predict= classification_model_prediction(xgb_classifier_CL,cl_processed_data)\n",
    "cl_revenue_predict = regression_model_prediction(xgb_regressor_CL,cl_processed_data)\n",
    "cl_client_candidate = get_possible_client_candidates(combined_data['Client'],cl_client_predict,cl_revenue_predict,'CL')\n",
    "\n",
    "#Credit Card\n",
    "cc_processed_data = data_preprocessing_pipeline(combined_data,credit_card_scaler,credit_card_pca,CC_Selected_Cols)\n",
    "cc_client_predict = classification_model_prediction(xgb_classifier_CC,cc_processed_data)\n",
    "cc_revenue_predict = regression_model_prediction(xgb_regressor_CC,cc_processed_data)\n",
    "cc_client_candidate = get_possible_client_candidates(combined_data['Client'],cc_client_predict,cc_revenue_predict,'CC')\n",
    "\n",
    "\n",
    "#Mutual Fund\n",
    "mf_processed_data = data_preprocessing_pipeline(combined_data,mutual_fund_scaler,mutual_fund_pca,MF_Selected_Cols)\n",
    "mf_client_predict= classification_model_prediction(xgb_classifier_MF,mf_processed_data)\n",
    "mf_revenue_predict = regression_model_prediction(xgb_regressor_MF,mf_processed_data)\n",
    "mf_client_candidate = get_possible_client_candidates(combined_data['Client'],mf_client_predict,mf_revenue_predict,'MF')\n",
    "\n",
    "\n",
    "#Above section generated all the clinet candidates with predicted revenues.\n",
    "\n",
    "#1.Combine the data, 2. sort data 3. Keep top revenue of a client to avoid duplicate marketing.\n",
    "combined_data = combine_and_select_highest_revenue([cl_client_candidate,cc_client_candidate,mf_client_candidate])\n",
    "\n",
    "#Get the top 100 clients\n",
    "top_cl = get_top_n_rows_product(combined_data,'CL',100)\n",
    "top_cc = get_top_n_rows_product(combined_data,'CC',100)\n",
    "top_mf = get_top_n_rows_product(combined_data,'MF',100)\n",
    "\n",
    "#Get the total revenue.\n",
    "total_cl_predicted_revenue = top_cl['revenue_prediction'].sum()\n",
    "total_cc_predicted_revenue = top_cc['revenue_prediction'].sum()\n",
    "total_mf_predicted_revenue = top_mf['revenue_prediction'].sum()\n",
    "total_predicted_revenue = total_cl_predicted_revenue + total_cc_predicted_revenue + total_mf_predicted_revenue\n",
    "\n",
    "predicted_revenue_details = ['Consumer Loan Predicted Revenue : ' + str(total_cl_predicted_revenue),\n",
    "                             'Credit Card Predicted Revenue : ' + str(total_cc_predicted_revenue),\n",
    "                             'Mutual Fund Predicted Revenue : ' + str(total_mf_predicted_revenue),\n",
    "                             'Total Predicted Revenue : ' + str(total_predicted_revenue)]"
   ]
  },
  {
   "cell_type": "code",
   "execution_count": 20,
   "id": "ef13ccc0-ea01-4f96-b5b6-bfb52272e284",
   "metadata": {},
   "outputs": [],
   "source": [
    "#Save the prediction client results.\n",
    "top_cl.sort_values(by=['Client'],ascending=True)['Client'].to_csv('prediction_result/ConsumerLoanClient.csv',index=None)\n",
    "top_cc.sort_values(by=['Client'],ascending=True)['Client'].to_csv('prediction_result/CreditCardClient.csv',index=None)\n",
    "top_mf.sort_values(by=['Client'],ascending=True)['Client'].to_csv('prediction_result/MutualFundClient.csv',index=None)\n",
    "\n",
    "with open(\"prediction_result/PredictedRevenue.txt\", 'w') as revenue_txt:\n",
    "    for revenue_details in predicted_revenue_details:\n",
    "        revenue_txt.write(revenue_details + '\\n')\n"
   ]
  }
 ],
 "metadata": {
  "kernelspec": {
   "display_name": "Python 3 (ipykernel)",
   "language": "python",
   "name": "python3"
  },
  "language_info": {
   "codemirror_mode": {
    "name": "ipython",
    "version": 3
   },
   "file_extension": ".py",
   "mimetype": "text/x-python",
   "name": "python",
   "nbconvert_exporter": "python",
   "pygments_lexer": "ipython3",
   "version": "3.13.2"
  }
 },
 "nbformat": 4,
 "nbformat_minor": 5
}
